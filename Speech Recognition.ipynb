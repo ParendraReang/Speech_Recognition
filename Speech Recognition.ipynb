{
 "cells": [
  {
   "cell_type": "code",
   "execution_count": 48,
   "metadata": {},
   "outputs": [
    {
     "name": "stdout",
     "output_type": "stream",
     "text": [
      "Speak:\n",
      "You said: YouTube\n"
     ]
    }
   ],
   "source": [
    "import speech_recognition as sr\n",
    "\n",
    "import webbrowser\n",
    "#webbrowser.open('https://www.python.org')\n",
    "\n",
    "r = sr.Recognizer()\n",
    "with sr.Microphone() as source:\n",
    "    print(\"Speak:\")\n",
    "    audio = r.listen(source)\n",
    "    url = 'https://www.youtube.com/'\n",
    "    \n",
    "    \n",
    "try:\n",
    "    get = r.recognize_google(audio)\n",
    "    print(\"You said:\",get)\n",
    "    #print(txt)\n",
    "    webbrowser.get().open_new_tab(url+get)\n",
    "    \n",
    "except sr.UnknownValueError:\n",
    "    print(\"can't hear\")\n",
    "except sr.RequestError as e:\n",
    "    print(\"could not request; (0)\".format(e))"
   ]
  }
 ],
 "metadata": {
  "kernelspec": {
   "display_name": "Python 3",
   "language": "python",
   "name": "python3"
  },
  "language_info": {
   "codemirror_mode": {
    "name": "ipython",
    "version": 3
   },
   "file_extension": ".py",
   "mimetype": "text/x-python",
   "name": "python",
   "nbconvert_exporter": "python",
   "pygments_lexer": "ipython3",
   "version": "3.8.5"
  }
 },
 "nbformat": 4,
 "nbformat_minor": 4
}
